{
  "nbformat": 4,
  "nbformat_minor": 0,
  "metadata": {
    "colab": {
      "provenance": []
    },
    "kernelspec": {
      "name": "ir",
      "display_name": "R"
    },
    "language_info": {
      "name": "R"
    }
  },
  "cells": [
    {
      "cell_type": "code",
      "execution_count": null,
      "metadata": {
        "id": "ctEdp9ATFT8A"
      },
      "outputs": [],
      "source": [
        "#install.packages(c(\"readr\", \"rpart\", \"rpart.plot\", \"survival\", \"survminer\" , \"ROCR\" ,\"e1071\"))\n",
        "library(readr)\n",
        "library(rpart)\n",
        "library(rpart.plot)\n",
        "library(survival)\n",
        "library(survminer)\n",
        "library(lattice)\n",
        "library(ggplot2)\n",
        "library(caret)\n",
        "library(ROCR)\n",
        "library(e1071)\n",
        "\n",
        "\n",
        "\n",
        "df <- read.csv(\"telco.csv\")"
      ]
    },
    {
      "cell_type": "markdown",
      "source": [
        "# Data Cleaning/Manipulation"
      ],
      "metadata": {
        "id": "Nm0i45dBFavF"
      }
    },
    {
      "cell_type": "code",
      "source": [
        "# Drop the 'customerID' column\n",
        "df <- subset(df, select = -customerID)\n",
        "\n",
        "# Convert 'TotalCharges' to numeric\n",
        "df$TotalCharges <- as.numeric(as.character(df$TotalCharges))\n",
        "\n",
        "# Check for missing values - TotalCharges has 11\n",
        "print(colSums(is.na(df)))\n",
        "\n",
        "# Impute missing values in 'TotalCharges' with mean\n",
        "df$TotalCharges[is.na(df$TotalCharges)] <- mean(df$TotalCharges, na.rm = TRUE)\n",
        "\n",
        "# Drop rows where 'tenure' is 0\n",
        "rows_with_tenure_0 <- which(df$tenure == 0)\n",
        "df <- df[-rows_with_tenure_0, ]\n",
        "\n",
        "# Convert 'SeniorCitizen' to categorical\n",
        "df$SeniorCitizen <- factor(df$SeniorCitizen, levels = c(0, 1), labels = c(\"No\", \"Yes\"))\n",
        "\n",
        "# Create a list of categorical columns\n",
        "cat_cols <- names(df)[sapply(df, is.factor)]\n",
        "cat_cols <- cat_cols[cat_cols != \"customerID\"]  # Remove 'customerID' column\n",
        "\n",
        "# Convert categorical variables to factors\n",
        "df$gender <- as.factor(df$gender)\n",
        "df[cat_cols] <- lapply(df[cat_cols], as.factor)\n",
        "\n",
        "# Display summary statistics for 'InternetService'\n",
        "print(summary(df$InternetService))\n",
        "\n",
        "# Display summary statistics for numerical columns\n",
        "numerical_cols <- c('tenure', 'MonthlyCharges', 'TotalCharges')\n",
        "print(summary(df[, numerical_cols]))\n",
        "\n",
        "# Convert 'Churn' to factor\n",
        "df$Churn <- factor(df$Churn, levels = c(\"No\", \"Yes\"))"
      ],
      "metadata": {
        "colab": {
          "base_uri": "https://localhost:8080/"
        },
        "id": "j9VlTNjNFeA4",
        "outputId": "ace347ed-e7c0-4ce2-f47d-4fd2d7c996ed"
      },
      "execution_count": null,
      "outputs": [
        {
          "output_type": "stream",
          "name": "stdout",
          "text": [
            "          gender    SeniorCitizen          Partner       Dependents \n",
            "               0                0                0                0 \n",
            "          tenure     PhoneService    MultipleLines  InternetService \n",
            "               0                0                0                0 \n",
            "  OnlineSecurity     OnlineBackup DeviceProtection      TechSupport \n",
            "               0                0                0                0 \n",
            "     StreamingTV  StreamingMovies         Contract PaperlessBilling \n",
            "               0                0                0                0 \n",
            "   PaymentMethod   MonthlyCharges     TotalCharges            Churn \n",
            "               0                0               11                0 \n",
            "   Length     Class      Mode \n",
            "     7032 character character \n",
            "     tenure      MonthlyCharges    TotalCharges   \n",
            " Min.   : 1.00   Min.   : 18.25   Min.   :  18.8  \n",
            " 1st Qu.: 9.00   1st Qu.: 35.59   1st Qu.: 401.4  \n",
            " Median :29.00   Median : 70.35   Median :1397.5  \n",
            " Mean   :32.42   Mean   : 64.80   Mean   :2283.3  \n",
            " 3rd Qu.:55.00   3rd Qu.: 89.86   3rd Qu.:3794.7  \n",
            " Max.   :72.00   Max.   :118.75   Max.   :8684.8  \n"
          ]
        }
      ]
    },
    {
      "cell_type": "markdown",
      "source": [
        "# Kaplan-Meier Model on two cohorts of customers based on whether a customer has subscribed for Streaming TV or not."
      ],
      "metadata": {
        "id": "vodfvOXg0egk"
      }
    },
    {
      "cell_type": "code",
      "source": [
        "kmf <- survfit(Surv(tenure, Churn) ~ StreamingTV, data = df)\n",
        "kmf"
      ],
      "metadata": {
        "colab": {
          "base_uri": "https://localhost:8080/",
          "height": 196
        },
        "id": "W_3Cl3oOz9Xz",
        "outputId": "e5bc7f30-9e40-49ca-ea83-88441f3eab21"
      },
      "execution_count": null,
      "outputs": [
        {
          "output_type": "display_data",
          "data": {
            "text/plain": [
              "Call: survfit(formula = Surv(tenure, Churn) ~ StreamingTV, data = df)\n",
              "\n",
              "                                         n nevent    rmean*\n",
              "StreamingTV=No, (s0)                  2809      0 47.440355\n",
              "StreamingTV=No internet service, (s0) 1520      0 66.459816\n",
              "StreamingTV=Yes, (s0)                 2703      0 56.068951\n",
              "StreamingTV=No, Yes                   2809    942 24.559645\n",
              "StreamingTV=No internet service, Yes  1520    113  5.540184\n",
              "StreamingTV=Yes, Yes                  2703    814 15.931049\n",
              "   *restricted mean time in state (max time = 72 )"
            ]
          },
          "metadata": {}
        }
      ]
    },
    {
      "cell_type": "markdown",
      "source": [
        "- n: number of observations in each group.\n",
        "- nevent: churn observed in each group.\n",
        "- rmean*: restricted mean time in state, which is the average time until churn occurs or the study ends.\n",
        "\n",
        "Customers who are not subscribed to streaming TV or have no internet service have longer average times until churn compared to those who are subscribed to streaming TV or have internet service.\n",
        "\n",
        "Customers who are subscribed to both streaming TV and internet service tend to have shorter average times until churn compared to other groups.\n"
      ],
      "metadata": {
        "id": "MDTumVa5z_aR"
      }
    },
    {
      "cell_type": "markdown",
      "source": [
        "# Train - Test Split"
      ],
      "metadata": {
        "id": "bICR-EcQ5N3Y"
      }
    },
    {
      "cell_type": "code",
      "source": [
        "# Train - Test\n",
        "set.seed(123)\n",
        "\n",
        "# Split data, 75% distribution of churn for training\n",
        "train.index <- createDataPartition( y = df$Churn, p = 0.75, list = FALSE)\n",
        "train <- df[train.index,]\n",
        "test <- df[-train.index,]"
      ],
      "metadata": {
        "id": "SFTWPn2N5RbH"
      },
      "execution_count": null,
      "outputs": []
    },
    {
      "cell_type": "markdown",
      "source": [
        "# Classification Tree Model"
      ],
      "metadata": {
        "id": "TZUQH7rBFlXg"
      }
    },
    {
      "cell_type": "code",
      "source": [
        "tree_model <- rpart(Churn ~ ., data = df, method = \"class\")\n",
        "\n",
        "# Visualize the tree\n",
        "rpart.plot(tree_model)"
      ],
      "metadata": {
        "colab": {
          "base_uri": "https://localhost:8080/",
          "height": 437
        },
        "id": "36WR1Q9WFqCu",
        "outputId": "9e9d0440-c4ef-46a0-c972-8c79d0f0b79f"
      },
      "execution_count": null,
      "outputs": [
        {
          "output_type": "display_data",
          "data": {
            "text/plain": [
              "plot without title"
            ],
            "image/png": "[encoded data removed]"
          },
          "metadata": {
            "image/png": {
              "width": 420,
              "height": 420
            }
          }
        }
      ]
    },
    {
      "cell_type": "code",
      "source": [
        "# Classification Tree - Confusion Matrix - Accuracy\n",
        "\n",
        "# Prediction, classification  -  Classificatin Tree\n",
        "tree.pred <- predict(tree_model,test, type = \"class\")\n",
        "confusionMatrix(tree.pred,test$Churn)\n",
        "\n",
        "# Prediction, probability\n",
        "tree.pred.prob <- predict(tree_model, test, type = \"prob\")\n",
        "tree.pred.prob.val <- prediction(tree.pred.prob[,2],test$Churn)\n",
        "tree.pred.prob.perf <- performance(tree.pred.prob.val, \"auc\")\n",
        "\n",
        "# print AUC value\n",
        "paste(\"AUC Value is:\", as.numeric(performance(tree.pred.prob.val, \"auc\")@y.values))\n",
        "# plots the ROC curve with colors where the splits are.\n",
        "plot(performance(tree.pred.prob.val, \"tpr\", \"fpr\"), colorize = TRUE ,main = \"ROC Curve - Classification Tree\")"
      ],
      "metadata": {
        "id": "UHpfTBJ15IwB"
      },
      "execution_count": null,
      "outputs": []
    },
    {
      "cell_type": "markdown",
      "source": [
        "# Random Forest"
      ],
      "metadata": {
        "id": "QUFpThId5bKC"
      }
    },
    {
      "cell_type": "code",
      "source": [
        "#Random Forest\n",
        "\n",
        "rf.fit  <- train(Churn ~ . , method = \"rf\", data = train, importance = TRUE)\n",
        "rf.pred <- predict(rf.fit, test)\n",
        "confusionMatrix(rf.pred, test$Churn)\n",
        "#performance(rf.pred, measure = \"auc\")@y.values[[1]]\n",
        "\n",
        "# Prediction, probability\n",
        "rf.pred.prob <- predict(rf.fit, test, type = \"prob\")\n",
        "rf.pred.prob.val <- prediction(rf.pred.prob[,2],test$Churn)\n",
        "rf.pred.prob.perf <- performance(rf.pred.prob.val,\"auc\")\n",
        "\n",
        "# print AUC value - Random Forest Model\n",
        "paste(\"AUC Value is:\", as.numeric(performance(rf.pred.prob.val, \"auc\")@y.values))\n",
        "# plots the ROC curve with colors where the splits are.\n",
        "plot(performance(rf.pred.prob.val, \"tpr\", \"fpr\"), colorize = TRUE , main = \"ROC Curve - Random Forest\")"
      ],
      "metadata": {
        "id": "J8xZTTua5ece"
      },
      "execution_count": null,
      "outputs": []
    },
    {
      "cell_type": "markdown",
      "source": [
        "# SVM"
      ],
      "metadata": {
        "id": "hHxJbKKW5kNG"
      }
    },
    {
      "cell_type": "code",
      "source": [
        "model_svm <- svm(Churn~., train, kernel=\"linear\", cost=0.1)\n",
        "model_svm\n",
        "predicted_svm<-predict(model_svm,test,decision.values = TRUE)\n",
        "mean(predicted_svm==test$Churn)\n",
        "\n",
        "svm_ct <- table(predicted_svm, test$Churn)\n",
        "svm_ct\n",
        "svm_recall <- svm_ct[2,2]/(svm_ct[2,2]+svm_ct[1,2])\n",
        "svm_recall"
      ],
      "metadata": {
        "id": "8KnFZ_VJ5aRX"
      },
      "execution_count": null,
      "outputs": []
    },
    {
      "cell_type": "markdown",
      "source": [
        "## Linear Regression"
      ],
      "metadata": {
        "id": "jUtp4GKlrWUe"
      }
    },
    {
      "cell_type": "code",
      "source": [
        "full.model <- glm(Churn ~., train, family = binomial)\n",
        "summary(full.model)\n",
        "\n",
        "\n",
        "step.model <- step(full.model, direction = \"both\", trace = FALSE)\n",
        "summary(step.model)\n",
        "\n",
        "#Confusion Matrix for step.model\n",
        "\n",
        "predict.test <- predict(step.model, newdata = test, type = 'response')\n",
        "predict.train <- predict(step.model, newdata = train, type = 'response')\n",
        "\n",
        "# Convert predicted probabilities to class labels\n",
        "predicted_classes_test <- ifelse(predict.test > 0.5, \"Yes\", \"No\")\n",
        "predicted_classes_train <- ifelse(predict.train > 0.5, \"Yes\", \"No\")\n",
        "\n",
        "# Get the actual class labels\n",
        "true_labels_test <- test$Churn\n",
        "true_labels_train <- train$Churn\n",
        "\n",
        "# Compute the confusion matrix\n",
        "\n",
        "confusion_matrix_test <- table(true_labels, predicted_classes_test)\n",
        "print(paste(\"Confusion Matrix Test\", confusion_matrix_test))\n",
        "\n",
        "confusion_matrix_train <- table(true_labels_train, predicted_classes_train)\n",
        "print(paste(\"Confusion Matrix Train\", confusion_matrix_train))\n",
        "\n",
        "# Accuracy of the model:\n",
        "accuracy_test <- sum(predicted_classes_test == true_labels_test) / length(true_labels_test)\n",
        "accuracy_train <- sum(predicted_classes_train == true_labels_train) / length(true_labels_train)"
      ],
      "metadata": {
        "id": "hJTt8bKyrbE8"
      },
      "execution_count": null,
      "outputs": []
    },
    {
      "cell_type": "markdown",
      "source": [
        "## KNN"
      ],
      "metadata": {
        "id": "Cyqdx4wn2Bx6"
      }
    },
    {
      "cell_type": "code",
      "source": [
        "preProcValues <- preProcess(train, method = c(\"center\", \"scale\"))\n",
        "trainTransformed <- predict(preProcValues, train)\n",
        "testTransformed <- predict(preProcValues, test)"
      ],
      "metadata": {
        "id": "PCh9M_aIixld"
      },
      "execution_count": null,
      "outputs": []
    },
    {
      "cell_type": "code",
      "source": [
        "## K = 3\n",
        "knn.churn3<- knn3(\n",
        "  Churn ~ gender + SeniorCitizen + Partner + Dependents + tenure + PhoneService + MonthlyCharges + TotalCharges,\n",
        "  data = trainTransformed,\n",
        "  k = 3\n",
        ")\n",
        "\n",
        "predictions3 <- predict(knn.churn3, testTransformed,type = \"class\")\n",
        "\n",
        "# Calculate confusion matrix\n",
        "cm3 <- confusionMatrix(predictions3, testTransformed$Churn)\n",
        "cm3\n",
        "\n",
        "results3 <- data.frame(Accuracy = cm3$overall[\"Accuracy\"],\n",
        "           Sensitivity = cm3$byClass[\"Sensitivity\"],\n",
        "           Specificity = cm3$byClass[\"Specificity\"])\n",
        "results3$Accuracy\n"
      ],
      "metadata": {
        "id": "wTWv45Fu2L0v"
      },
      "execution_count": null,
      "outputs": []
    },
    {
      "cell_type": "code",
      "source": [
        "knn.churn5<- knn3(\n",
        "  Churn ~ gender + SeniorCitizen + Partner + Dependents + tenure + PhoneService + MonthlyCharges + TotalCharges,\n",
        "  data = trainTransformed,\n",
        "  k = 5\n",
        ")\n",
        "\n",
        "predictions5 <- predict(knn.churn5, testTransformed,type = \"class\")\n",
        "\n",
        "# Calculate confusion matrix\n",
        "cm5 <- confusionMatrix(predictions5, testTransformed$Churn)\n",
        "cm5\n",
        "\n",
        "results5 <- data.frame(Accuracy = cm5$overall[\"Accuracy\"],\n",
        "                       Sensitivity = cm5$byClass[\"Sensitivity\"],\n",
        "                       Specificity = cm5$byClass[\"Specificity\"])\n",
        "results5$Accuracy"
      ],
      "metadata": {
        "id": "JgxdFA1r2OD6"
      },
      "execution_count": null,
      "outputs": []
    },
    {
      "cell_type": "code",
      "source": [
        "##KNN k = 9\n",
        "knn.churn9<- knn3(\n",
        "  Churn ~ gender + SeniorCitizen + Partner + Dependents + tenure + PhoneService + MonthlyCharges + TotalCharges,\n",
        "  data = trainTransformed,\n",
        "  k = 9\n",
        ")\n",
        "\n",
        "predictions9 <- predict(knn.churn9, testTransformed,type = \"class\")\n",
        "\n",
        "# Calculate confusion matrix\n",
        "cm9 <- confusionMatrix(predictions9, testTransformed$Churn)\n",
        "cm9\n",
        "\n",
        "results9 <- data.frame(Accuracy = cm9$overall[\"Accuracy\"],\n",
        "                       Sensitivity = cm9$byClass[\"Sensitivity\"],\n",
        "                       Specificity = cm9$byClass[\"Specificity\"])\n",
        "results9$Accuracy"
      ],
      "metadata": {
        "id": "t4Az50Ez2QmM"
      },
      "execution_count": null,
      "outputs": []
    },
    {
      "cell_type": "code",
      "source": [
        "## KNN k = 11\n",
        "knn.churn11<- knn3(\n",
        "  Churn ~ gender + SeniorCitizen + Partner + Dependents + tenure + PhoneService + MonthlyCharges + TotalCharges,\n",
        "  data = trainTransformed,\n",
        "  k = 11\n",
        ")\n",
        "\n",
        "predictions11 <- predict(knn.churn11, testTransformed,type = \"class\")\n",
        "\n",
        "# Calculate confusion matrix\n",
        "cm11 <- confusionMatrix(predictions11, testTransformed$Churn)\n",
        "cm11\n",
        "\n",
        "results11 <- data.frame(Accuracy = cm11$overall[\"Accuracy\"],\n",
        "                       Sensitivity = cm11$byClass[\"Sensitivity\"],\n",
        "                       Specificity = cm11$byClass[\"Specificity\"])\n",
        "results11$Accuracy"
      ],
      "metadata": {
        "id": "Clz4c29D2SjA"
      },
      "execution_count": null,
      "outputs": []
    },
    {
      "cell_type": "code",
      "source": [
        "## KNN k = 13\n",
        "knn.churn13<- knn3(\n",
        "  Churn ~ gender + SeniorCitizen + Partner + Dependents + tenure + PhoneService + MonthlyCharges + TotalCharges,\n",
        "  data = trainTransformed,\n",
        "  k = 13\n",
        ")\n",
        "\n",
        "predictions13 <- predict(knn.churn13,\n",
        "testTransformed,type = \"class\")\n",
        "# Calculate confusion matrix\n",
        "cm13 <- confusionMatrix(predictions13,testTransformed$Churn)\n",
        "cm13\n",
        "\n",
        "results13 <- data.frame(Accuracy = cm13$overall[\"Accuracy\"],\n",
        "                        Sensitivity = cm13$byClass[\"Sensitivity\"],\n",
        "                        Specificity = cm13$byClass[\"Specificity\"])\n",
        "results13$Accuracy"
      ],
      "metadata": {
        "id": "5m_y-Tar2eyi"
      },
      "execution_count": null,
      "outputs": []
    },
    {
      "cell_type": "code",
      "source": [
        "## KNN k = 15\n",
        "knn.churn15<- knn3(\n",
        "  Churn ~ gender + SeniorCitizen + Partner + Dependents + tenure + PhoneService + MonthlyCharges + TotalCharges,\n",
        "  data = trainTransformed,\n",
        "  k = 15\n",
        ")\n",
        "\n",
        "predictions15 <- predict(knn.churn15, testTransformed,type = \"class\")\n",
        "\n",
        "# Calculate confusion matrix\n",
        "cm15 <- confusionMatrix(predictions15, testTransformed$Churn)\n",
        "cm15\n",
        "\n",
        "results15 <- data.frame(Accuracy = cm15$overall[\"Accuracy\"],\n",
        "                        Sensitivity = cm15$byClass[\"Sensitivity\"],\n",
        "                        Specificity = cm15$byClass[\"Specificity\"])\n",
        "results15$Accuracy"
      ],
      "metadata": {
        "id": "tXEMxM2J2hJ9"
      },
      "execution_count": null,
      "outputs": []
    },
    {
      "cell_type": "code",
      "source": [
        "## KNN k = 19\n",
        "knn.churn19<- knn3(\n",
        "  Churn ~ gender + SeniorCitizen + Partner + Dependents + tenure + PhoneService + MonthlyCharges + TotalCharges,\n",
        "  data = trainTransformed,\n",
        "  k = 19\n",
        ")\n",
        "\n",
        "predictions19 <- predict(knn.churn19, testTransformed,type = \"class\")\n",
        "\n",
        "# Calculate confusion matrix\n",
        "cm19 <- confusionMatrix(predictions19, testTransformed$Churn)\n",
        "cm19\n",
        "\n",
        "results19 <- data.frame(Accuracy = cm19$overall[\"Accuracy\"],\n",
        "                        Sensitivity = cm19$byClass[\"Sensitivity\"],\n",
        "                        Specificity = cm19$byClass[\"Specificity\"])\n",
        "results19$Accuracy"
      ],
      "metadata": {
        "id": "NC5eWhQq2lrb"
      },
      "execution_count": null,
      "outputs": []
    },
    {
      "cell_type": "code",
      "source": [
        "## Confirming K = 11 is best value\n",
        "knnModel <- train(\n",
        "  Churn ~ gender + SeniorCitizen + Partner + Dependents + tenure + PhoneService + MonthlyCharges + TotalCharges,\n",
        "  data = trainTransformed,\n",
        "  method = \"knn\",\n",
        "  trControl = trainControl(method = \"cv\"),\n",
        "  tuneGrid = data.frame(k = c(3,5,9,11,13,15,19))\n",
        ")\n",
        "\n",
        "best_model<- knn3(\n",
        "  Churn ~ gender + SeniorCitizen + Partner + Dependents + tenure + PhoneService + MonthlyCharges + TotalCharges,\n",
        "  data = trainTransformed,\n",
        "  k = knnModel$bestTune$k\n",
        ")\n",
        "\n",
        "accuracy.df <- data.frame(\n",
        "  k_value = c(3,5,9,11,13,15,19),\n",
        "  accuracy = c(results3$Accuracy,results5$Accuracy,results9$Accuracy, results11$Accuracy, results13$Accuracy, results15$Accuracy, results19$Accuracy)\n",
        ")\n",
        "accuracy.df\n",
        "\n",
        "p <- ggplot(accuracy.df, aes(x = k_value, y = accuracy)) +\n",
        "  geom_line(color = \"lightgreen\", linewidth = 2) +\n",
        "  geom_point(color = \"darkgreen\", size = 5) +\n",
        "  labs(title = \"K-Nearest Neighbors Accuracy for Different K Values\",\n",
        "       x = \"Number of Neighbors (K Value)\",\n",
        "       y = \"Accuracy\") +\n",
        "  theme_minimal()\n",
        "\n",
        "p + theme(plot.title = element_text(hjust = .5, face = 'bold'))"
      ],
      "metadata": {
        "id": "ui5AYUq62nvU"
      },
      "execution_count": null,
      "outputs": []
    }
  ]
}