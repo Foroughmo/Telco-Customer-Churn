{
  "nbformat": 4,
  "nbformat_minor": 0,
  "metadata": {
    "colab": {
      "provenance": []
    },
    "kernelspec": {
      "name": "ir",
      "display_name": "R"
    },
    "language_info": {
      "name": "R"
    }
  },
  "cells": [
    {
      "cell_type": "code",
      "execution_count": null,
      "metadata": {
        "id": "hxjV8DPM1nPn"
      },
      "outputs": [],
      "source": [
        "library(tidyverse)\n",
        "\n",
        "telco.data <- read.csv(\"C:/Users/saman/OneDrive - The University of Chicago/Linear and Non-Linear Models Final Project/Part 3/Data/Kaggle-Telco-Customer-Churn.csv\")\n",
        "glimpse(telco.data)\n",
        "summary(telco.data)"
      ]
    },
    {
      "cell_type": "code",
      "source": [
        "## Categorical Values\n",
        "table(telco.data$gender, useNA = 'always')\n",
        "table(telco.data$Partner, useNA = 'always')\n",
        "table(telco.data$MultipleLines, useNA = 'always')\n",
        "table(telco.data$InternetService, useNA = 'always')\n",
        "table(telco.data$OnlineBackup, useNA = 'always')\n",
        "table(telco.data$OnlineSecurity, useNA = 'always')\n",
        "table(telco.data$DeviceProtection, useNA = 'always')\n",
        "table(telco.data$TechSupport, useNA = 'always')\n",
        "table(telco.data$StreamingTV, useNA = 'always')\n",
        "table(telco.data$StreamingMovies, useNA = 'always')\n",
        "table(telco.data$Contract, useNA = 'always')\n",
        "table(telco.data$PaperlessBilling, useNA = 'always')\n",
        "table(telco.data$PaymentMethod, useNA = 'always')\n",
        "table(telco.data$Churn, useNA = 'always')"
      ],
      "metadata": {
        "id": "bNbpbwlb1ub9"
      },
      "execution_count": null,
      "outputs": []
    },
    {
      "cell_type": "code",
      "source": [
        "## Numerical Values\n",
        "fivenum(telco.data$tenure)\n",
        "fivenum(telco.data$MonthlyCharges)\n",
        "fivenum(telco.data$TotalCharges)\n"
      ],
      "metadata": {
        "id": "WqAkFT9U10AR"
      },
      "execution_count": null,
      "outputs": []
    },
    {
      "cell_type": "code",
      "source": [],
      "metadata": {
        "id": "iKSfJdJT11TP"
      },
      "execution_count": null,
      "outputs": []
    },
    {
      "cell_type": "code",
      "source": [
        "## Data Discovery Plots\n",
        "a <- ggplot(telco.data, aes( x = Churn, y = InternetService)) + geom_count(colour ='#006c67') + ggtitle(\"Churn by Internet Service Type\")\n",
        "a + theme(plot.title = element_text(hjust = .5, face = 'bold'))\n",
        "\n",
        "b <- ggplot(telco.data, aes(x = MonthlyCharges, y = Churn)) + geom_boxplot(fill = '#76ABDF') + ggtitle(\"Churn by Monthly Charges\")\n",
        "b + theme(plot.title = element_text(hjust = .5, face = 'bold'))\n",
        "\n",
        "c <- ggplot(telco.data, aes(x = TotalCharges, y = Churn)) + geom_boxplot(fill = '#6495ED', outlier.colour = '#1C05B3', outlier.size = 3) + ggtitle(\"Churn by Total Charges\")\n",
        "c + coord_flip() + theme(plot.title = element_text(hjust = .5, face = 'bold'))\n",
        "\n",
        "d <- ggplot(telco.data, aes(x = tenure)) + geom_histogram(color = 'black', fill = '#00CCFF', binwidth = 5) + ggtitle(\"Histogram of Tenure\")\n",
        "d + theme(plot.title = element_text(hjust = .5, face = 'bold'))\n",
        "telco.data |> count(PhoneService, InternetService) |>\n",
        "  ggplot(aes(x = PhoneService, y = InternetService)) + geom_tile(aes(fill = n))\n",
        "telco.data |> count(PaymentMethod, InternetService) |>\n",
        "  ggplot(aes(x = PaymentMethod, y = InternetService)) + geom_tile(aes(fill = n))"
      ],
      "metadata": {
        "id": "c_dLI9cd12mg"
      },
      "execution_count": null,
      "outputs": []
    },
    {
      "cell_type": "code",
      "source": [
        "## Finding nulls in Total Charges\n",
        "sum(is.na(telco.data$TotalCharges))\n",
        "subset(telco.data, is.na(TotalCharges))"
      ],
      "metadata": {
        "id": "rAOJeqxv15R4"
      },
      "execution_count": null,
      "outputs": []
    }
  ]
}